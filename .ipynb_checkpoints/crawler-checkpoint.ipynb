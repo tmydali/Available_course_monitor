{
 "cells": [
  {
   "cell_type": "code",
   "execution_count": 1,
   "metadata": {
    "scrolled": true
   },
   "outputs": [],
   "source": [
    "import requests, time\n",
    "from bs4 import BeautifulSoup\n",
    "import threading as thrd\n",
    "\n",
    "\n",
    "def Department_list():\n",
    "    # get the main page of class-signing\n",
    "    url = 'http://course-query.acad.ncku.edu.tw/qry'\n",
    "    soup = get_site(url)\n",
    "    # print(soup)\n",
    "\n",
    "    #create a dictionary in the form of {department_No. : site_link} for each department\n",
    "    dept_all = soup.find('ul',id='dept_list')\n",
    "    dept = dept_all.find_all('div', 'dept')\n",
    "    dept_link = []\n",
    "    for i in dept:\n",
    "        dept_link.append(\"http://course-query.acad.ncku.edu.tw/qry/\" + i.find('a').get('href'))\n",
    "    dept_text = []\n",
    "    for i in dept:\n",
    "        dept_text.append(i.string)\n",
    "    dept_no = []\n",
    "    for string in dept_text:\n",
    "        dept_no.append(string[string.find('(')+2 : string.find(u' ）')])\n",
    "    dept_dict = dict(zip(dept_no, dept_link))\n",
    "    # print(dept_dict)\n",
    "    \n",
    "    return dept_dict"
   ]
  },
  {
   "cell_type": "code",
   "execution_count": 2,
   "metadata": {},
   "outputs": [],
   "source": [
    "def Course_list(DeptNo, dept_dict):\n",
    "    # create a dictionary in the form of {course_No. : [course_name, Space_Available]}\n",
    "    soup = get_site(dept_dict[DeptNo])\n",
    "    \n",
    "    course_tmp = []\n",
    "    course_all = []\n",
    "    course_tmp = soup.find_all('td')\n",
    "    for row in range(1,int(len(course_tmp)/24)+1):\n",
    "        course_all.append(course_tmp[24*(row-1):24*row-1])\n",
    "    course_dict = {}\n",
    "    for i in course_all:\n",
    "        if i[2].string == None:\n",
    "            continue\n",
    "        course_dict.update({i[2].string: [i[10].string, i[15].string]})\n",
    "        \n",
    "    return course_dict"
   ]
  },
  {
   "cell_type": "code",
   "execution_count": 3,
   "metadata": {},
   "outputs": [],
   "source": [
    "def get_site(url):\n",
    "    response = requests.get(url)\n",
    "    response.encoding = 'UTF-8'\n",
    "    soup = BeautifulSoup(response.text , 'html.parser')\n",
    "    \n",
    "    return soup"
   ]
  },
  {
   "cell_type": "code",
   "execution_count": 4,
   "metadata": {},
   "outputs": [],
   "source": [
    "def multithrd(DeptNo, CrsNo, depts):\n",
    "    global threads \n",
    "    t = thrd.Thread(target = main, args = (DeptNo, CrsNo, dept))\n",
    "    t.start()\n",
    "    threads.update({(DeptNo, CrsNo) : t})"
   ]
  },
  {
   "cell_type": "code",
   "execution_count": 5,
   "metadata": {},
   "outputs": [],
   "source": [
    "def main(DeptNo, CrsNo, dept):\n",
    "    # set up a loop and wait for several seconds between each turn\n",
    "    try:\n",
    "        while True:\n",
    "            course = Course_list(DeptNo, dept)\n",
    "            print(\"{0:s}，餘額: {1:s}\".format(course[CrsNo][0], course[CrsNo][1]))\n",
    "            time.sleep(2)\n",
    "    except KeyError:\n",
    "        print(\"Course not found!\\n\")\n",
    "        "
   ]
  },
  {
   "cell_type": "code",
   "execution_count": 6,
   "metadata": {},
   "outputs": [],
   "source": [
    "def remove_dead_threads():\n",
    "    global threads\n",
    "    threads = {key : t for key, t in threads.items() if t.is_alive()}"
   ]
  },
  {
   "cell_type": "code",
   "execution_count": null,
   "metadata": {},
   "outputs": [
    {
     "name": "stdout",
     "output_type": "stream",
     "text": [
      "輸入系所及科目代碼(空白隔開 eg: A2 001)：A9 001\n",
      "{('A9', '001'): <Thread(Thread-6, started 6868)>}\n",
      "藝術史與藝術批評，餘額: 額滿\n",
      "輸入系所及科目代碼(空白隔開 eg: A2 001)：A9 000\n",
      "{('A9', '001'): <Thread(Thread-6, started 6868)>, ('A9', '000'): <Thread(Thread-7, started 4812)>}\n",
      "藝術史與藝術批評，餘額: 額滿\n",
      "Course not found!\n",
      "\n",
      "藝術史與藝術批評，餘額: 額滿\n",
      "藝術史與藝術批評，餘額: 額滿\n",
      "輸入系所及科目代碼(空白隔開 eg: A2 001)：A9 002\n",
      "{('A9', '001'): <Thread(Thread-6, started 6868)>, ('A9', '000'): <Thread(Thread-7, stopped 4812)>, ('A9', '002'): <Thread(Thread-8, started 6796)>}\n",
      "宗教哲學，餘額: 額滿\n",
      "藝術史與藝術批評，餘額: 額滿\n",
      "宗教哲學，餘額: 額滿\n",
      "輸入系所及科目代碼(空白隔開 eg: A2 001)：A9 003\n",
      "藝術史與藝術批評，餘額: 額滿\n",
      "{('A9', '001'): <Thread(Thread-6, started 6868)>, ('A9', '002'): <Thread(Thread-8, started 6796)>, ('A9', '003'): <Thread(Thread-9, started 6328)>}\n",
      "文本與歷史，餘額: 20\n",
      "宗教哲學，餘額: 額滿\n",
      "藝術史與藝術批評，餘額: 額滿\n",
      "文本與歷史，餘額: 20\n",
      "宗教哲學，餘額: 額滿\n",
      "藝術史與藝術批評，餘額: 額滿\n",
      "文本與歷史，餘額: 20\n"
     ]
    }
   ],
   "source": [
    "if __name__ == \"__main__\":\n",
    "    #user input\n",
    "    dept = Department_list()\n",
    "    threads = {}\n",
    "    while True:\n",
    "        try:\n",
    "            usr_DeptNo, usr_CrsNo = input('輸入系所及科目代碼(空白隔開 eg: A2 001)：').split()\n",
    "            multithrd(usr_DeptNo, usr_CrsNo, dept)\n",
    "            print(threads)\n",
    "        except:\n",
    "            print(\"Format error!\\n\")\n",
    "        finally:\n",
    "            remove_dead_threads()\n",
    "       \n",
    "        \n",
    "            "
   ]
  },
  {
   "cell_type": "code",
   "execution_count": null,
   "metadata": {},
   "outputs": [],
   "source": []
  }
 ],
 "metadata": {
  "kernelspec": {
   "display_name": "Python 3",
   "language": "python",
   "name": "python3"
  },
  "language_info": {
   "codemirror_mode": {
    "name": "ipython",
    "version": 3
   },
   "file_extension": ".py",
   "mimetype": "text/x-python",
   "name": "python",
   "nbconvert_exporter": "python",
   "pygments_lexer": "ipython3",
   "version": "3.7.0"
  }
 },
 "nbformat": 4,
 "nbformat_minor": 2
}
