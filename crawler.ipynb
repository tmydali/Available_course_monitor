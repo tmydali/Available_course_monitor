{
 "cells": [
  {
   "cell_type": "code",
   "execution_count": 4,
   "metadata": {
    "scrolled": false
   },
   "outputs": [],
   "source": [
    "import requests\n",
    "from bs4 import BeautifulSoup\n",
    "from threading import Timer\n",
    "\n",
    "def create_dicts():\n",
    "    #user input\n",
    "    usr_DeptNo = input('輸入科系代碼：')\n",
    "    usr_CrsNo = input('輸入科目代碼：')\n",
    "\n",
    "    #get the main page of class-signing\n",
    "    url = 'http://course-query.acad.ncku.edu.tw/qry'\n",
    "    response = requests.get(url)\n",
    "    response.encoding = 'UTF-8'\n",
    "    soup = BeautifulSoup(response.text , 'html.parser')\n",
    "    # print(soup)\n",
    "\n",
    "    #create a dictionary in the form of {department_No. : site_link} for each department\n",
    "    dept_all = soup.find('ul',id='dept_list')\n",
    "    dept = dept_all.find_all('div', 'dept')\n",
    "    dept_link = []\n",
    "    for i in dept:\n",
    "        dept_link.append(\"http://course-query.acad.ncku.edu.tw/qry/\" + i.find('a').get('href'))\n",
    "    dept_text = []\n",
    "    for i in dept:\n",
    "        dept_text.append(i.string)\n",
    "    dept_no = []\n",
    "    for string in dept_text:\n",
    "        dept_no.append(string[string.find('(')+2 : string.find(u' ）')])\n",
    "    dept_dict = dict(zip(dept_no, dept_link))\n",
    "    # print(dept_dict)\n",
    "\n",
    "    #create a dictionary in the form of {course_No. : [course_name, Space_Available]}\n",
    "    url = dept_dict[usr_DeptNo]\n",
    "    response = requests.get(url)\n",
    "    response.encoding = 'UTF-8'\n",
    "    soup = BeautifulSoup(response.text , 'html.parser')\n",
    "    course_tmp = []\n",
    "    course_all = []\n",
    "    course_tmp = soup.find_all('td')\n",
    "    for row in range(1,int(len(course_tmp)/24)+1):\n",
    "        course_all.append(course_tmp[24*(row-1):24*row-1])\n",
    "    course_dict = {}\n",
    "    for i in course_all:\n",
    "        if i[2].string == None:\n",
    "            continue\n",
    "        course_dict.update({i[2].string: [i[10].string, i[15].string]})\n",
    "        \n",
    "    #set up a loop timer\n",
    "    "
   ]
  },
  {
   "cell_type": "code",
   "execution_count": 5,
   "metadata": {
    "scrolled": false
   },
   "outputs": [
    {
     "name": "stdout",
     "output_type": "stream",
     "text": [
      "輸入科目代碼：106\n",
      "音樂文化導引，餘額: 額滿\n"
     ]
    }
   ],
   "source": [
    "def Looper():\n",
    "    timer = Timer(3, create_dicts)\n",
    "    timer.start()\n",
    "    print(\"{0:s}，餘額: {1:s}\".format(course_dict[usr_CrsNo][0], course_dict[usr_CrsNo][1]))"
   ]
  },
  {
   "cell_type": "code",
   "execution_count": null,
   "metadata": {},
   "outputs": [],
   "source": []
  }
 ],
 "metadata": {
  "kernelspec": {
   "display_name": "Python 3",
   "language": "python",
   "name": "python3"
  },
  "language_info": {
   "codemirror_mode": {
    "name": "ipython",
    "version": 3
   },
   "file_extension": ".py",
   "mimetype": "text/x-python",
   "name": "python",
   "nbconvert_exporter": "python",
   "pygments_lexer": "ipython3",
   "version": "3.7.0"
  }
 },
 "nbformat": 4,
 "nbformat_minor": 2
}
